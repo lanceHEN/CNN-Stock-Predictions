{
 "cells": [
  {
   "cell_type": "code",
   "id": "initial_id",
   "metadata": {
    "collapsed": true,
    "ExecuteTime": {
     "end_time": "2025-02-01T05:05:05.187337Z",
     "start_time": "2025-02-01T05:05:05.183539Z"
    }
   },
   "source": [
    "import yfinance as yf\n",
    "import datetime\n",
    "import pandas as pd\n",
    "from sklearn.preprocessing import scale\n",
    "from sklearn.model_selection import train_test_split\n",
    "import torch\n",
    "from src.model import Transformer\n",
    "from torch.utils.data import DataLoader, Dataset, TensorDataset\n",
    "import numpy as np\n",
    "from src.CNN import CNN\n",
    "import torch.nn.functional as F"
   ],
   "outputs": [],
   "execution_count": 33
  },
  {
   "metadata": {
    "ExecuteTime": {
     "end_time": "2025-02-01T04:59:58.368977Z",
     "start_time": "2025-02-01T04:59:58.367389Z"
    }
   },
   "cell_type": "code",
   "source": [
    "ticker = \"AAPL\"\n",
    "years = 40"
   ],
   "id": "aed732e8b9657a56",
   "outputs": [],
   "execution_count": 2
  },
  {
   "metadata": {
    "ExecuteTime": {
     "end_time": "2025-02-01T04:59:58.462960Z",
     "start_time": "2025-02-01T04:59:58.461052Z"
    }
   },
   "cell_type": "code",
   "source": [
    "end_date = datetime.date.today().strftime(\"%Y-%m-%d\")\n",
    "start_date = (datetime.date.today() - datetime.timedelta(days=years*365)).strftime(\"%Y-%m-%d\")"
   ],
   "id": "c6d62f46417fd19e",
   "outputs": [],
   "execution_count": 3
  },
  {
   "metadata": {
    "ExecuteTime": {
     "end_time": "2025-02-01T04:59:58.974212Z",
     "start_time": "2025-02-01T04:59:58.469383Z"
    }
   },
   "cell_type": "code",
   "source": "data = yf.download(ticker, start=start_date, end=end_date)",
   "id": "a2223fbf0d082996",
   "outputs": [
    {
     "name": "stderr",
     "output_type": "stream",
     "text": [
      "[*********************100%***********************]  1 of 1 completed\n"
     ]
    }
   ],
   "execution_count": 4
  },
  {
   "metadata": {},
   "cell_type": "markdown",
   "source": "# EDA",
   "id": "bff99c5fc320e35"
  },
  {
   "metadata": {},
   "cell_type": "markdown",
   "source": "### Get sample of data\n",
   "id": "7573b69ca5228b8a"
  },
  {
   "metadata": {
    "ExecuteTime": {
     "end_time": "2025-02-01T04:59:58.990665Z",
     "start_time": "2025-02-01T04:59:58.983582Z"
    }
   },
   "cell_type": "code",
   "source": "data.head()",
   "id": "fc76f57828f9e20b",
   "outputs": [
    {
     "data": {
      "text/plain": [
       "Price          Close      High       Low      Open     Volume\n",
       "Ticker          AAPL      AAPL      AAPL      AAPL       AAPL\n",
       "Date                                                         \n",
       "1985-02-11  0.104851  0.105710  0.104851  0.104851  346953600\n",
       "1985-02-12  0.102273  0.105281  0.102273  0.104851  226508800\n",
       "1985-02-13  0.097545  0.102273  0.097545  0.102273  527027200\n",
       "1985-02-14  0.094967  0.098405  0.094967  0.097545  426832000\n",
       "1985-02-15  0.096256  0.096686  0.094108  0.094967  173622400"
      ],
      "text/html": [
       "<div>\n",
       "<style scoped>\n",
       "    .dataframe tbody tr th:only-of-type {\n",
       "        vertical-align: middle;\n",
       "    }\n",
       "\n",
       "    .dataframe tbody tr th {\n",
       "        vertical-align: top;\n",
       "    }\n",
       "\n",
       "    .dataframe thead tr th {\n",
       "        text-align: left;\n",
       "    }\n",
       "\n",
       "    .dataframe thead tr:last-of-type th {\n",
       "        text-align: right;\n",
       "    }\n",
       "</style>\n",
       "<table border=\"1\" class=\"dataframe\">\n",
       "  <thead>\n",
       "    <tr>\n",
       "      <th>Price</th>\n",
       "      <th>Close</th>\n",
       "      <th>High</th>\n",
       "      <th>Low</th>\n",
       "      <th>Open</th>\n",
       "      <th>Volume</th>\n",
       "    </tr>\n",
       "    <tr>\n",
       "      <th>Ticker</th>\n",
       "      <th>AAPL</th>\n",
       "      <th>AAPL</th>\n",
       "      <th>AAPL</th>\n",
       "      <th>AAPL</th>\n",
       "      <th>AAPL</th>\n",
       "    </tr>\n",
       "    <tr>\n",
       "      <th>Date</th>\n",
       "      <th></th>\n",
       "      <th></th>\n",
       "      <th></th>\n",
       "      <th></th>\n",
       "      <th></th>\n",
       "    </tr>\n",
       "  </thead>\n",
       "  <tbody>\n",
       "    <tr>\n",
       "      <th>1985-02-11</th>\n",
       "      <td>0.104851</td>\n",
       "      <td>0.105710</td>\n",
       "      <td>0.104851</td>\n",
       "      <td>0.104851</td>\n",
       "      <td>346953600</td>\n",
       "    </tr>\n",
       "    <tr>\n",
       "      <th>1985-02-12</th>\n",
       "      <td>0.102273</td>\n",
       "      <td>0.105281</td>\n",
       "      <td>0.102273</td>\n",
       "      <td>0.104851</td>\n",
       "      <td>226508800</td>\n",
       "    </tr>\n",
       "    <tr>\n",
       "      <th>1985-02-13</th>\n",
       "      <td>0.097545</td>\n",
       "      <td>0.102273</td>\n",
       "      <td>0.097545</td>\n",
       "      <td>0.102273</td>\n",
       "      <td>527027200</td>\n",
       "    </tr>\n",
       "    <tr>\n",
       "      <th>1985-02-14</th>\n",
       "      <td>0.094967</td>\n",
       "      <td>0.098405</td>\n",
       "      <td>0.094967</td>\n",
       "      <td>0.097545</td>\n",
       "      <td>426832000</td>\n",
       "    </tr>\n",
       "    <tr>\n",
       "      <th>1985-02-15</th>\n",
       "      <td>0.096256</td>\n",
       "      <td>0.096686</td>\n",
       "      <td>0.094108</td>\n",
       "      <td>0.094967</td>\n",
       "      <td>173622400</td>\n",
       "    </tr>\n",
       "  </tbody>\n",
       "</table>\n",
       "</div>"
      ]
     },
     "execution_count": 5,
     "metadata": {},
     "output_type": "execute_result"
    }
   ],
   "execution_count": 5
  },
  {
   "metadata": {
    "ExecuteTime": {
     "end_time": "2025-02-01T04:59:59.015993Z",
     "start_time": "2025-02-01T04:59:59.014417Z"
    }
   },
   "cell_type": "code",
   "source": "### Shape of data",
   "id": "7bc4a56b4e10ab40",
   "outputs": [],
   "execution_count": 6
  },
  {
   "metadata": {
    "ExecuteTime": {
     "end_time": "2025-02-01T04:59:59.044182Z",
     "start_time": "2025-02-01T04:59:59.041594Z"
    }
   },
   "cell_type": "code",
   "source": "data.shape",
   "id": "529d4fca152fff05",
   "outputs": [
    {
     "data": {
      "text/plain": [
       "(10071, 5)"
      ]
     },
     "execution_count": 7,
     "metadata": {},
     "output_type": "execute_result"
    }
   ],
   "execution_count": 7
  },
  {
   "metadata": {
    "ExecuteTime": {
     "end_time": "2025-02-01T04:59:59.080411Z",
     "start_time": "2025-02-01T04:59:59.078702Z"
    }
   },
   "cell_type": "code",
   "source": "### Get summary of data and check for nulls",
   "id": "977121c112c282fb",
   "outputs": [],
   "execution_count": 8
  },
  {
   "metadata": {
    "ExecuteTime": {
     "end_time": "2025-02-01T04:59:59.107540Z",
     "start_time": "2025-02-01T04:59:59.096616Z"
    }
   },
   "cell_type": "code",
   "source": [
    "# check columns and data types\n",
    "print(data.info())\n",
    "\n",
    "# get summaries\n",
    "print(data.describe())\n",
    "\n",
    "# check for nulls\n",
    "print(data.isnull().sum())"
   ],
   "id": "68e753c27dffa226",
   "outputs": [
    {
     "name": "stdout",
     "output_type": "stream",
     "text": [
      "<class 'pandas.core.frame.DataFrame'>\n",
      "DatetimeIndex: 10071 entries, 1985-02-11 to 2025-01-30\n",
      "Data columns (total 5 columns):\n",
      " #   Column          Non-Null Count  Dtype  \n",
      "---  ------          --------------  -----  \n",
      " 0   (Close, AAPL)   10071 non-null  float64\n",
      " 1   (High, AAPL)    10071 non-null  float64\n",
      " 2   (Low, AAPL)     10071 non-null  float64\n",
      " 3   (Open, AAPL)    10071 non-null  float64\n",
      " 4   (Volume, AAPL)  10071 non-null  int64  \n",
      "dtypes: float64(4), int64(1)\n",
      "memory usage: 472.1 KB\n",
      "None\n",
      "Price          Close          High           Low          Open        Volume\n",
      "Ticker          AAPL          AAPL          AAPL          AAPL          AAPL\n",
      "count   10071.000000  10071.000000  10071.000000  10071.000000  1.007100e+04\n",
      "mean       26.326238     26.585971     26.039555     26.305333  3.355846e+08\n",
      "std        52.353153     52.848583     51.793928     52.299141  3.426937e+08\n",
      "min         0.049847      0.050706      0.049847      0.050277  2.396800e+06\n",
      "25%         0.282182      0.287606      0.276789      0.282228  1.220016e+08\n",
      "50%         1.065280      1.087385      1.050367      1.067991  2.222016e+08\n",
      "75%        22.518399     22.704909     22.291910     22.478168  4.214896e+08\n",
      "max       259.019989    260.100006    257.630005    258.190002  7.421641e+09\n",
      "Price   Ticker\n",
      "Close   AAPL      0\n",
      "High    AAPL      0\n",
      "Low     AAPL      0\n",
      "Open    AAPL      0\n",
      "Volume  AAPL      0\n",
      "dtype: int64\n"
     ]
    }
   ],
   "execution_count": 9
  },
  {
   "metadata": {},
   "cell_type": "markdown",
   "source": "Get X and Y",
   "id": "694838567df8ecd6"
  },
  {
   "metadata": {
    "ExecuteTime": {
     "end_time": "2025-02-01T04:59:59.153109Z",
     "start_time": "2025-02-01T04:59:59.149483Z"
    }
   },
   "cell_type": "code",
   "source": [
    "data[\"Target\"] = data[\"Close\"].shift(-1) # target: next day closing price\n",
    "data.dropna(inplace=True) # remove one row with nan target"
   ],
   "id": "cfa0034a8b0de0de",
   "outputs": [],
   "execution_count": 10
  },
  {
   "metadata": {
    "ExecuteTime": {
     "end_time": "2025-02-01T04:59:59.161500Z",
     "start_time": "2025-02-01T04:59:59.157962Z"
    }
   },
   "cell_type": "code",
   "source": [
    "input_vars = ['Close', 'High', 'Low', 'Open']\n",
    "output_var = 'Target'\n",
    "X = data[input_vars]\n",
    "y = data[output_var]"
   ],
   "id": "e865f437e1585a21",
   "outputs": [],
   "execution_count": 11
  },
  {
   "metadata": {
    "ExecuteTime": {
     "end_time": "2025-02-01T04:59:59.174486Z",
     "start_time": "2025-02-01T04:59:59.169135Z"
    }
   },
   "cell_type": "code",
   "source": "X",
   "id": "f42febfb6bff3527",
   "outputs": [
    {
     "data": {
      "text/plain": [
       "Price            Close        High         Low        Open\n",
       "Ticker            AAPL        AAPL        AAPL        AAPL\n",
       "Date                                                      \n",
       "1985-02-11    0.104851    0.105710    0.104851    0.104851\n",
       "1985-02-12    0.102273    0.105281    0.102273    0.104851\n",
       "1985-02-13    0.097545    0.102273    0.097545    0.102273\n",
       "1985-02-14    0.094967    0.098405    0.094967    0.097545\n",
       "1985-02-15    0.096256    0.096686    0.094108    0.094967\n",
       "...                ...         ...         ...         ...\n",
       "2025-01-23  223.660004  227.029999  222.300003  224.740005\n",
       "2025-01-24  222.779999  225.630005  221.410004  224.779999\n",
       "2025-01-27  229.860001  232.149994  223.979996  224.020004\n",
       "2025-01-28  238.259995  240.190002  230.809998  230.850006\n",
       "2025-01-29  239.360001  239.860001  234.009995  234.119995\n",
       "\n",
       "[10070 rows x 4 columns]"
      ],
      "text/html": [
       "<div>\n",
       "<style scoped>\n",
       "    .dataframe tbody tr th:only-of-type {\n",
       "        vertical-align: middle;\n",
       "    }\n",
       "\n",
       "    .dataframe tbody tr th {\n",
       "        vertical-align: top;\n",
       "    }\n",
       "\n",
       "    .dataframe thead tr th {\n",
       "        text-align: left;\n",
       "    }\n",
       "\n",
       "    .dataframe thead tr:last-of-type th {\n",
       "        text-align: right;\n",
       "    }\n",
       "</style>\n",
       "<table border=\"1\" class=\"dataframe\">\n",
       "  <thead>\n",
       "    <tr>\n",
       "      <th>Price</th>\n",
       "      <th>Close</th>\n",
       "      <th>High</th>\n",
       "      <th>Low</th>\n",
       "      <th>Open</th>\n",
       "    </tr>\n",
       "    <tr>\n",
       "      <th>Ticker</th>\n",
       "      <th>AAPL</th>\n",
       "      <th>AAPL</th>\n",
       "      <th>AAPL</th>\n",
       "      <th>AAPL</th>\n",
       "    </tr>\n",
       "    <tr>\n",
       "      <th>Date</th>\n",
       "      <th></th>\n",
       "      <th></th>\n",
       "      <th></th>\n",
       "      <th></th>\n",
       "    </tr>\n",
       "  </thead>\n",
       "  <tbody>\n",
       "    <tr>\n",
       "      <th>1985-02-11</th>\n",
       "      <td>0.104851</td>\n",
       "      <td>0.105710</td>\n",
       "      <td>0.104851</td>\n",
       "      <td>0.104851</td>\n",
       "    </tr>\n",
       "    <tr>\n",
       "      <th>1985-02-12</th>\n",
       "      <td>0.102273</td>\n",
       "      <td>0.105281</td>\n",
       "      <td>0.102273</td>\n",
       "      <td>0.104851</td>\n",
       "    </tr>\n",
       "    <tr>\n",
       "      <th>1985-02-13</th>\n",
       "      <td>0.097545</td>\n",
       "      <td>0.102273</td>\n",
       "      <td>0.097545</td>\n",
       "      <td>0.102273</td>\n",
       "    </tr>\n",
       "    <tr>\n",
       "      <th>1985-02-14</th>\n",
       "      <td>0.094967</td>\n",
       "      <td>0.098405</td>\n",
       "      <td>0.094967</td>\n",
       "      <td>0.097545</td>\n",
       "    </tr>\n",
       "    <tr>\n",
       "      <th>1985-02-15</th>\n",
       "      <td>0.096256</td>\n",
       "      <td>0.096686</td>\n",
       "      <td>0.094108</td>\n",
       "      <td>0.094967</td>\n",
       "    </tr>\n",
       "    <tr>\n",
       "      <th>...</th>\n",
       "      <td>...</td>\n",
       "      <td>...</td>\n",
       "      <td>...</td>\n",
       "      <td>...</td>\n",
       "    </tr>\n",
       "    <tr>\n",
       "      <th>2025-01-23</th>\n",
       "      <td>223.660004</td>\n",
       "      <td>227.029999</td>\n",
       "      <td>222.300003</td>\n",
       "      <td>224.740005</td>\n",
       "    </tr>\n",
       "    <tr>\n",
       "      <th>2025-01-24</th>\n",
       "      <td>222.779999</td>\n",
       "      <td>225.630005</td>\n",
       "      <td>221.410004</td>\n",
       "      <td>224.779999</td>\n",
       "    </tr>\n",
       "    <tr>\n",
       "      <th>2025-01-27</th>\n",
       "      <td>229.860001</td>\n",
       "      <td>232.149994</td>\n",
       "      <td>223.979996</td>\n",
       "      <td>224.020004</td>\n",
       "    </tr>\n",
       "    <tr>\n",
       "      <th>2025-01-28</th>\n",
       "      <td>238.259995</td>\n",
       "      <td>240.190002</td>\n",
       "      <td>230.809998</td>\n",
       "      <td>230.850006</td>\n",
       "    </tr>\n",
       "    <tr>\n",
       "      <th>2025-01-29</th>\n",
       "      <td>239.360001</td>\n",
       "      <td>239.860001</td>\n",
       "      <td>234.009995</td>\n",
       "      <td>234.119995</td>\n",
       "    </tr>\n",
       "  </tbody>\n",
       "</table>\n",
       "<p>10070 rows × 4 columns</p>\n",
       "</div>"
      ]
     },
     "execution_count": 12,
     "metadata": {},
     "output_type": "execute_result"
    }
   ],
   "execution_count": 12
  },
  {
   "metadata": {
    "ExecuteTime": {
     "end_time": "2025-02-01T04:59:59.206697Z",
     "start_time": "2025-02-01T04:59:59.203703Z"
    }
   },
   "cell_type": "code",
   "source": "y",
   "id": "879671ffc9ba7a98",
   "outputs": [
    {
     "data": {
      "text/plain": [
       "Date\n",
       "1985-02-11      0.102273\n",
       "1985-02-12      0.097545\n",
       "1985-02-13      0.094967\n",
       "1985-02-14      0.096256\n",
       "1985-02-15      0.094967\n",
       "                 ...    \n",
       "2025-01-23    222.779999\n",
       "2025-01-24    229.860001\n",
       "2025-01-27    238.259995\n",
       "2025-01-28    239.360001\n",
       "2025-01-29    237.589996\n",
       "Name: Target, Length: 10070, dtype: float64"
      ]
     },
     "execution_count": 13,
     "metadata": {},
     "output_type": "execute_result"
    }
   ],
   "execution_count": 13
  },
  {
   "metadata": {
    "ExecuteTime": {
     "end_time": "2025-02-01T04:59:59.234644Z",
     "start_time": "2025-02-01T04:59:59.229595Z"
    }
   },
   "cell_type": "code",
   "source": [
    "data[input_vars] = scale(data[input_vars], axis=0)\n",
    "data_in = data[input_vars]\n",
    "data_out = data[output_var]"
   ],
   "id": "2330731632f4f458",
   "outputs": [],
   "execution_count": 14
  },
  {
   "metadata": {
    "ExecuteTime": {
     "end_time": "2025-02-01T04:59:59.295194Z",
     "start_time": "2025-02-01T04:59:59.290382Z"
    }
   },
   "cell_type": "code",
   "source": "data_in",
   "id": "bffcb40e4700570c",
   "outputs": [
    {
     "data": {
      "text/plain": [
       "Price          Close      High       Low      Open\n",
       "Ticker          AAPL      AAPL      AAPL      AAPL\n",
       "Date                                              \n",
       "1985-02-11 -0.500860 -0.501065 -0.500737 -0.500981\n",
       "1985-02-12 -0.500910 -0.501074 -0.500787 -0.500981\n",
       "1985-02-13 -0.501000 -0.501131 -0.500878 -0.501030\n",
       "1985-02-14 -0.501049 -0.501204 -0.500928 -0.501120\n",
       "1985-02-15 -0.501025 -0.501236 -0.500945 -0.501170\n",
       "...              ...       ...       ...       ...\n",
       "2025-01-23  3.772734  3.796299  3.792793  3.797738\n",
       "2025-01-24  3.755911  3.769787  3.775595  3.798504\n",
       "2025-01-27  3.891256  3.893259  3.825256  3.783960\n",
       "2025-01-28  4.051835  4.045516  3.957234  3.914662\n",
       "2025-01-29  4.072863  4.039267  4.019068  3.977238\n",
       "\n",
       "[10070 rows x 4 columns]"
      ],
      "text/html": [
       "<div>\n",
       "<style scoped>\n",
       "    .dataframe tbody tr th:only-of-type {\n",
       "        vertical-align: middle;\n",
       "    }\n",
       "\n",
       "    .dataframe tbody tr th {\n",
       "        vertical-align: top;\n",
       "    }\n",
       "\n",
       "    .dataframe thead tr th {\n",
       "        text-align: left;\n",
       "    }\n",
       "\n",
       "    .dataframe thead tr:last-of-type th {\n",
       "        text-align: right;\n",
       "    }\n",
       "</style>\n",
       "<table border=\"1\" class=\"dataframe\">\n",
       "  <thead>\n",
       "    <tr>\n",
       "      <th>Price</th>\n",
       "      <th>Close</th>\n",
       "      <th>High</th>\n",
       "      <th>Low</th>\n",
       "      <th>Open</th>\n",
       "    </tr>\n",
       "    <tr>\n",
       "      <th>Ticker</th>\n",
       "      <th>AAPL</th>\n",
       "      <th>AAPL</th>\n",
       "      <th>AAPL</th>\n",
       "      <th>AAPL</th>\n",
       "    </tr>\n",
       "    <tr>\n",
       "      <th>Date</th>\n",
       "      <th></th>\n",
       "      <th></th>\n",
       "      <th></th>\n",
       "      <th></th>\n",
       "    </tr>\n",
       "  </thead>\n",
       "  <tbody>\n",
       "    <tr>\n",
       "      <th>1985-02-11</th>\n",
       "      <td>-0.500860</td>\n",
       "      <td>-0.501065</td>\n",
       "      <td>-0.500737</td>\n",
       "      <td>-0.500981</td>\n",
       "    </tr>\n",
       "    <tr>\n",
       "      <th>1985-02-12</th>\n",
       "      <td>-0.500910</td>\n",
       "      <td>-0.501074</td>\n",
       "      <td>-0.500787</td>\n",
       "      <td>-0.500981</td>\n",
       "    </tr>\n",
       "    <tr>\n",
       "      <th>1985-02-13</th>\n",
       "      <td>-0.501000</td>\n",
       "      <td>-0.501131</td>\n",
       "      <td>-0.500878</td>\n",
       "      <td>-0.501030</td>\n",
       "    </tr>\n",
       "    <tr>\n",
       "      <th>1985-02-14</th>\n",
       "      <td>-0.501049</td>\n",
       "      <td>-0.501204</td>\n",
       "      <td>-0.500928</td>\n",
       "      <td>-0.501120</td>\n",
       "    </tr>\n",
       "    <tr>\n",
       "      <th>1985-02-15</th>\n",
       "      <td>-0.501025</td>\n",
       "      <td>-0.501236</td>\n",
       "      <td>-0.500945</td>\n",
       "      <td>-0.501170</td>\n",
       "    </tr>\n",
       "    <tr>\n",
       "      <th>...</th>\n",
       "      <td>...</td>\n",
       "      <td>...</td>\n",
       "      <td>...</td>\n",
       "      <td>...</td>\n",
       "    </tr>\n",
       "    <tr>\n",
       "      <th>2025-01-23</th>\n",
       "      <td>3.772734</td>\n",
       "      <td>3.796299</td>\n",
       "      <td>3.792793</td>\n",
       "      <td>3.797738</td>\n",
       "    </tr>\n",
       "    <tr>\n",
       "      <th>2025-01-24</th>\n",
       "      <td>3.755911</td>\n",
       "      <td>3.769787</td>\n",
       "      <td>3.775595</td>\n",
       "      <td>3.798504</td>\n",
       "    </tr>\n",
       "    <tr>\n",
       "      <th>2025-01-27</th>\n",
       "      <td>3.891256</td>\n",
       "      <td>3.893259</td>\n",
       "      <td>3.825256</td>\n",
       "      <td>3.783960</td>\n",
       "    </tr>\n",
       "    <tr>\n",
       "      <th>2025-01-28</th>\n",
       "      <td>4.051835</td>\n",
       "      <td>4.045516</td>\n",
       "      <td>3.957234</td>\n",
       "      <td>3.914662</td>\n",
       "    </tr>\n",
       "    <tr>\n",
       "      <th>2025-01-29</th>\n",
       "      <td>4.072863</td>\n",
       "      <td>4.039267</td>\n",
       "      <td>4.019068</td>\n",
       "      <td>3.977238</td>\n",
       "    </tr>\n",
       "  </tbody>\n",
       "</table>\n",
       "<p>10070 rows × 4 columns</p>\n",
       "</div>"
      ]
     },
     "execution_count": 15,
     "metadata": {},
     "output_type": "execute_result"
    }
   ],
   "execution_count": 15
  },
  {
   "metadata": {
    "ExecuteTime": {
     "end_time": "2025-02-01T04:59:59.338904Z",
     "start_time": "2025-02-01T04:59:59.336019Z"
    }
   },
   "cell_type": "code",
   "source": "data_out",
   "id": "1ecb4b4769d2327f",
   "outputs": [
    {
     "data": {
      "text/plain": [
       "Date\n",
       "1985-02-11      0.102273\n",
       "1985-02-12      0.097545\n",
       "1985-02-13      0.094967\n",
       "1985-02-14      0.096256\n",
       "1985-02-15      0.094967\n",
       "                 ...    \n",
       "2025-01-23    222.779999\n",
       "2025-01-24    229.860001\n",
       "2025-01-27    238.259995\n",
       "2025-01-28    239.360001\n",
       "2025-01-29    237.589996\n",
       "Name: Target, Length: 10070, dtype: float64"
      ]
     },
     "execution_count": 16,
     "metadata": {},
     "output_type": "execute_result"
    }
   ],
   "execution_count": 16
  },
  {
   "metadata": {
    "ExecuteTime": {
     "end_time": "2025-02-01T05:00:00.089464Z",
     "start_time": "2025-02-01T04:59:59.405002Z"
    }
   },
   "cell_type": "code",
   "source": [
    "def create_time_series_windows(data, window_size=30):\n",
    "    X, y = [], []\n",
    "    for i in range(len(data) - window_size):\n",
    "        X.append(data_in[i:i+window_size])  # past 30 days\n",
    "        y.append(data_out[i+window_size])    # target: next day's close price\n",
    "    return np.array(X), np.array(y)\n",
    "\n",
    "data_values = data[['Open', 'High', 'Low', 'Close', 'Volume']].values \n",
    "X, y = create_time_series_windows(data_values, window_size=30)\n",
    "X = torch.tensor(X, dtype=torch.float32)\n",
    "y = torch.tensor(y, dtype=torch.float32)\n",
    "\n",
    "print(f\"X shape: {X.shape}\")\n",
    "print(f\"y shape: {y.shape}\")"
   ],
   "id": "2ad9393f7a6ec38e",
   "outputs": [
    {
     "name": "stderr",
     "output_type": "stream",
     "text": [
      "/var/folders/f3/w3vlb72x47z3vhjsm9s6jlxc0000gn/T/ipykernel_35676/3346571144.py:5: FutureWarning: Series.__getitem__ treating keys as positions is deprecated. In a future version, integer keys will always be treated as labels (consistent with DataFrame behavior). To access a value by position, use `ser.iloc[pos]`\n",
      "  y.append(data_out[i+window_size])    # target: next day's close price\n"
     ]
    },
    {
     "name": "stdout",
     "output_type": "stream",
     "text": [
      "X shape: torch.Size([10040, 30, 4])\n",
      "y shape: torch.Size([10040])\n"
     ]
    }
   ],
   "execution_count": 17
  },
  {
   "metadata": {
    "ExecuteTime": {
     "end_time": "2025-02-01T05:00:00.138633Z",
     "start_time": "2025-02-01T05:00:00.133786Z"
    }
   },
   "cell_type": "code",
   "source": "X_train, X_test, y_train, y_test = train_test_split(X, y, test_size=0.2)",
   "id": "10773dcae56f76f2",
   "outputs": [],
   "execution_count": 18
  },
  {
   "metadata": {
    "ExecuteTime": {
     "end_time": "2025-02-01T05:00:00.170719Z",
     "start_time": "2025-02-01T05:00:00.168219Z"
    }
   },
   "cell_type": "code",
   "source": [
    "train_dataset = TensorDataset(X_train, y_train)\n",
    "test_dataset = TensorDataset(X_test, y_test)\n",
    "\n",
    "train_loader = DataLoader(train_dataset, batch_size=32, shuffle=True)\n",
    "test_loader = DataLoader(test_dataset, batch_size=32, shuffle=True)"
   ],
   "id": "1e3cae0e85768537",
   "outputs": [],
   "execution_count": 19
  },
  {
   "metadata": {},
   "cell_type": "markdown",
   "source": "# Manully build dataloaders",
   "id": "e6da6a265fcd44eb"
  },
  {
   "metadata": {},
   "cell_type": "markdown",
   "source": "# Train the model",
   "id": "a6eec325c27619be"
  },
  {
   "metadata": {
    "ExecuteTime": {
     "end_time": "2025-02-01T05:00:00.206142Z",
     "start_time": "2025-02-01T05:00:00.191615Z"
    }
   },
   "cell_type": "code",
   "source": [
    "input_dim = 4\n",
    "n_embedding = 64 # how many embeddings to represent each token with\n",
    "n_layers = 6\n",
    "block_size = 30 # how many tokens in each \"block\"\n",
    "batch_size = 16\n",
    "device = torch.device('mps' if torch.mps.is_available() else 'cpu')\n",
    "print(device)\n",
    "lr = 1e-4\n",
    "n_epochs = 100"
   ],
   "id": "1914efee48208e56",
   "outputs": [
    {
     "name": "stdout",
     "output_type": "stream",
     "text": [
      "mps\n"
     ]
    }
   ],
   "execution_count": 20
  },
  {
   "metadata": {
    "ExecuteTime": {
     "end_time": "2025-02-01T05:00:00.250620Z",
     "start_time": "2025-02-01T05:00:00.239539Z"
    }
   },
   "cell_type": "code",
   "source": [
    "cnn = CNN(input_dim, block_size, conv_layers=4)\n",
    "cnn.to(device)"
   ],
   "id": "49fc65d3badaf519",
   "outputs": [
    {
     "data": {
      "text/plain": [
       "CNN(\n",
       "  (conv1): Conv1d(4, 64, kernel_size=(2,), stride=(1,), padding=(1,))\n",
       "  (pool1): MaxPool1d(kernel_size=2, stride=2, padding=0, dilation=1, ceil_mode=False)\n",
       "  (convs): Sequential(\n",
       "    (0): Conv1d(64, 64, kernel_size=(2,), stride=(1,), padding=(1,))\n",
       "    (1): Conv1d(64, 64, kernel_size=(2,), stride=(1,), padding=(1,))\n",
       "    (2): Conv1d(64, 64, kernel_size=(2,), stride=(1,), padding=(1,))\n",
       "  )\n",
       "  (pools): Sequential(\n",
       "    (0): MaxPool1d(kernel_size=2, stride=2, padding=0, dilation=1, ceil_mode=False)\n",
       "    (1): MaxPool1d(kernel_size=2, stride=2, padding=0, dilation=1, ceil_mode=False)\n",
       "    (2): MaxPool1d(kernel_size=2, stride=2, padding=0, dilation=1, ceil_mode=False)\n",
       "  )\n",
       "  (fc1): Linear(in_features=128, out_features=128, bias=True)\n",
       "  (fc2): Linear(in_features=128, out_features=1, bias=True)\n",
       "  (relu): ReLU()\n",
       "  (flatten): Flatten(start_dim=1, end_dim=-1)\n",
       ")"
      ]
     },
     "execution_count": 21,
     "metadata": {},
     "output_type": "execute_result"
    }
   ],
   "execution_count": 21
  },
  {
   "metadata": {
    "ExecuteTime": {
     "end_time": "2025-02-01T05:00:00.257124Z",
     "start_time": "2025-02-01T05:00:00.255079Z"
    }
   },
   "cell_type": "code",
   "source": [
    "# use MSE Loss for regression\n",
    "criterion = torch.nn.MSELoss()"
   ],
   "id": "e29a05c0f53f61b5",
   "outputs": [],
   "execution_count": 22
  },
  {
   "metadata": {
    "ExecuteTime": {
     "end_time": "2025-02-01T05:00:00.729185Z",
     "start_time": "2025-02-01T05:00:00.268570Z"
    }
   },
   "cell_type": "code",
   "source": "optimizer = torch.optim.Adam(cnn.parameters(), lr=lr)",
   "id": "7f06bc968c641ce7",
   "outputs": [],
   "execution_count": 23
  },
  {
   "metadata": {
    "ExecuteTime": {
     "end_time": "2025-02-01T05:03:34.256411Z",
     "start_time": "2025-02-01T05:03:09.173368Z"
    }
   },
   "cell_type": "code",
   "source": [
    "# Training the model\n",
    "for epoch in range(n_epochs):\n",
    "    cnn.train()  # Set the model to training mode\n",
    "    total_loss = 0\n",
    "\n",
    "    for data, labels in train_loader:\n",
    "        # Forward pass\n",
    "        outputs = cnn(data.to(device))\n",
    "        #print(outputs.shape)\n",
    "        #print(labels.shape)\n",
    "        loss = criterion(labels.to(device), outputs)\n",
    "        #print(\"Loss\",loss.item())\n",
    "\n",
    "        # Backward pass\n",
    "        optimizer.zero_grad()  # Clear previous gradients\n",
    "        loss.backward()  # Compute gradients\n",
    "        optimizer.step()  # Update weights\n",
    "\n",
    "        total_loss += loss.item()\n",
    "\n",
    "    print(f\"Epoch [{epoch+1}/{n_epochs}], Loss: {total_loss/len(train_loader):.4f}\")"
   ],
   "id": "743240dc321d0a32",
   "outputs": [
    {
     "name": "stdout",
     "output_type": "stream",
     "text": [
      "Epoch [1/100], Loss: 2.9602\n",
      "Epoch [2/100], Loss: 3.0029\n",
      "Epoch [3/100], Loss: 3.1438\n",
      "Epoch [4/100], Loss: 2.8908\n",
      "Epoch [5/100], Loss: 2.8886\n",
      "Epoch [6/100], Loss: 3.0241\n",
      "Epoch [7/100], Loss: 3.1156\n",
      "Epoch [8/100], Loss: 3.0650\n",
      "Epoch [9/100], Loss: 3.0603\n",
      "Epoch [10/100], Loss: 3.0350\n",
      "Epoch [11/100], Loss: 2.7848\n",
      "Epoch [12/100], Loss: 2.9474\n",
      "Epoch [13/100], Loss: 2.8200\n",
      "Epoch [14/100], Loss: 2.8222\n",
      "Epoch [15/100], Loss: 2.7686\n"
     ]
    },
    {
     "ename": "KeyboardInterrupt",
     "evalue": "",
     "output_type": "error",
     "traceback": [
      "\u001B[0;31m---------------------------------------------------------------------------\u001B[0m",
      "\u001B[0;31mKeyboardInterrupt\u001B[0m                         Traceback (most recent call last)",
      "Cell \u001B[0;32mIn[26], line 8\u001B[0m\n\u001B[1;32m      4\u001B[0m total_loss \u001B[38;5;241m=\u001B[39m \u001B[38;5;241m0\u001B[39m\n\u001B[1;32m      6\u001B[0m \u001B[38;5;28;01mfor\u001B[39;00m data, labels \u001B[38;5;129;01min\u001B[39;00m train_loader:\n\u001B[1;32m      7\u001B[0m     \u001B[38;5;66;03m# Forward pass\u001B[39;00m\n\u001B[0;32m----> 8\u001B[0m     outputs \u001B[38;5;241m=\u001B[39m \u001B[43mcnn\u001B[49m\u001B[43m(\u001B[49m\u001B[43mdata\u001B[49m\u001B[38;5;241;43m.\u001B[39;49m\u001B[43mto\u001B[49m\u001B[43m(\u001B[49m\u001B[43mdevice\u001B[49m\u001B[43m)\u001B[49m\u001B[43m)\u001B[49m\n\u001B[1;32m      9\u001B[0m     \u001B[38;5;66;03m#print(outputs.shape)\u001B[39;00m\n\u001B[1;32m     10\u001B[0m     \u001B[38;5;66;03m#print(labels.shape)\u001B[39;00m\n\u001B[1;32m     11\u001B[0m     loss \u001B[38;5;241m=\u001B[39m criterion(labels\u001B[38;5;241m.\u001B[39mto(device), outputs)\n",
      "File \u001B[0;32m/Library/Frameworks/Python.framework/Versions/3.10/lib/python3.10/site-packages/torch/nn/modules/module.py:1736\u001B[0m, in \u001B[0;36mModule._wrapped_call_impl\u001B[0;34m(self, *args, **kwargs)\u001B[0m\n\u001B[1;32m   1734\u001B[0m     \u001B[38;5;28;01mreturn\u001B[39;00m \u001B[38;5;28mself\u001B[39m\u001B[38;5;241m.\u001B[39m_compiled_call_impl(\u001B[38;5;241m*\u001B[39margs, \u001B[38;5;241m*\u001B[39m\u001B[38;5;241m*\u001B[39mkwargs)  \u001B[38;5;66;03m# type: ignore[misc]\u001B[39;00m\n\u001B[1;32m   1735\u001B[0m \u001B[38;5;28;01melse\u001B[39;00m:\n\u001B[0;32m-> 1736\u001B[0m     \u001B[38;5;28;01mreturn\u001B[39;00m \u001B[38;5;28;43mself\u001B[39;49m\u001B[38;5;241;43m.\u001B[39;49m\u001B[43m_call_impl\u001B[49m\u001B[43m(\u001B[49m\u001B[38;5;241;43m*\u001B[39;49m\u001B[43margs\u001B[49m\u001B[43m,\u001B[49m\u001B[43m \u001B[49m\u001B[38;5;241;43m*\u001B[39;49m\u001B[38;5;241;43m*\u001B[39;49m\u001B[43mkwargs\u001B[49m\u001B[43m)\u001B[49m\n",
      "File \u001B[0;32m/Library/Frameworks/Python.framework/Versions/3.10/lib/python3.10/site-packages/torch/nn/modules/module.py:1747\u001B[0m, in \u001B[0;36mModule._call_impl\u001B[0;34m(self, *args, **kwargs)\u001B[0m\n\u001B[1;32m   1742\u001B[0m \u001B[38;5;66;03m# If we don't have any hooks, we want to skip the rest of the logic in\u001B[39;00m\n\u001B[1;32m   1743\u001B[0m \u001B[38;5;66;03m# this function, and just call forward.\u001B[39;00m\n\u001B[1;32m   1744\u001B[0m \u001B[38;5;28;01mif\u001B[39;00m \u001B[38;5;129;01mnot\u001B[39;00m (\u001B[38;5;28mself\u001B[39m\u001B[38;5;241m.\u001B[39m_backward_hooks \u001B[38;5;129;01mor\u001B[39;00m \u001B[38;5;28mself\u001B[39m\u001B[38;5;241m.\u001B[39m_backward_pre_hooks \u001B[38;5;129;01mor\u001B[39;00m \u001B[38;5;28mself\u001B[39m\u001B[38;5;241m.\u001B[39m_forward_hooks \u001B[38;5;129;01mor\u001B[39;00m \u001B[38;5;28mself\u001B[39m\u001B[38;5;241m.\u001B[39m_forward_pre_hooks\n\u001B[1;32m   1745\u001B[0m         \u001B[38;5;129;01mor\u001B[39;00m _global_backward_pre_hooks \u001B[38;5;129;01mor\u001B[39;00m _global_backward_hooks\n\u001B[1;32m   1746\u001B[0m         \u001B[38;5;129;01mor\u001B[39;00m _global_forward_hooks \u001B[38;5;129;01mor\u001B[39;00m _global_forward_pre_hooks):\n\u001B[0;32m-> 1747\u001B[0m     \u001B[38;5;28;01mreturn\u001B[39;00m \u001B[43mforward_call\u001B[49m\u001B[43m(\u001B[49m\u001B[38;5;241;43m*\u001B[39;49m\u001B[43margs\u001B[49m\u001B[43m,\u001B[49m\u001B[43m \u001B[49m\u001B[38;5;241;43m*\u001B[39;49m\u001B[38;5;241;43m*\u001B[39;49m\u001B[43mkwargs\u001B[49m\u001B[43m)\u001B[49m\n\u001B[1;32m   1749\u001B[0m result \u001B[38;5;241m=\u001B[39m \u001B[38;5;28;01mNone\u001B[39;00m\n\u001B[1;32m   1750\u001B[0m called_always_called_hooks \u001B[38;5;241m=\u001B[39m \u001B[38;5;28mset\u001B[39m()\n",
      "File \u001B[0;32m~/Documents/College Coding/ML/stocks/src/CNN.py:38\u001B[0m, in \u001B[0;36mCNN.forward\u001B[0;34m(self, x)\u001B[0m\n\u001B[1;32m     36\u001B[0m x \u001B[38;5;241m=\u001B[39m \u001B[38;5;28mself\u001B[39m\u001B[38;5;241m.\u001B[39mfc1(x)\n\u001B[1;32m     37\u001B[0m x \u001B[38;5;241m=\u001B[39m \u001B[38;5;28mself\u001B[39m\u001B[38;5;241m.\u001B[39mrelu(x)\n\u001B[0;32m---> 38\u001B[0m x \u001B[38;5;241m=\u001B[39m \u001B[38;5;28;43mself\u001B[39;49m\u001B[38;5;241;43m.\u001B[39;49m\u001B[43mfc2\u001B[49m\u001B[43m(\u001B[49m\u001B[43mx\u001B[49m\u001B[43m)\u001B[49m\n\u001B[1;32m     39\u001B[0m \u001B[38;5;28;01mreturn\u001B[39;00m x\u001B[38;5;241m.\u001B[39msqueeze(\u001B[38;5;241m-\u001B[39m\u001B[38;5;241m1\u001B[39m)\n",
      "File \u001B[0;32m/Library/Frameworks/Python.framework/Versions/3.10/lib/python3.10/site-packages/torch/nn/modules/module.py:1736\u001B[0m, in \u001B[0;36mModule._wrapped_call_impl\u001B[0;34m(self, *args, **kwargs)\u001B[0m\n\u001B[1;32m   1734\u001B[0m     \u001B[38;5;28;01mreturn\u001B[39;00m \u001B[38;5;28mself\u001B[39m\u001B[38;5;241m.\u001B[39m_compiled_call_impl(\u001B[38;5;241m*\u001B[39margs, \u001B[38;5;241m*\u001B[39m\u001B[38;5;241m*\u001B[39mkwargs)  \u001B[38;5;66;03m# type: ignore[misc]\u001B[39;00m\n\u001B[1;32m   1735\u001B[0m \u001B[38;5;28;01melse\u001B[39;00m:\n\u001B[0;32m-> 1736\u001B[0m     \u001B[38;5;28;01mreturn\u001B[39;00m \u001B[38;5;28;43mself\u001B[39;49m\u001B[38;5;241;43m.\u001B[39;49m\u001B[43m_call_impl\u001B[49m\u001B[43m(\u001B[49m\u001B[38;5;241;43m*\u001B[39;49m\u001B[43margs\u001B[49m\u001B[43m,\u001B[49m\u001B[43m \u001B[49m\u001B[38;5;241;43m*\u001B[39;49m\u001B[38;5;241;43m*\u001B[39;49m\u001B[43mkwargs\u001B[49m\u001B[43m)\u001B[49m\n",
      "File \u001B[0;32m/Library/Frameworks/Python.framework/Versions/3.10/lib/python3.10/site-packages/torch/nn/modules/module.py:1747\u001B[0m, in \u001B[0;36mModule._call_impl\u001B[0;34m(self, *args, **kwargs)\u001B[0m\n\u001B[1;32m   1742\u001B[0m \u001B[38;5;66;03m# If we don't have any hooks, we want to skip the rest of the logic in\u001B[39;00m\n\u001B[1;32m   1743\u001B[0m \u001B[38;5;66;03m# this function, and just call forward.\u001B[39;00m\n\u001B[1;32m   1744\u001B[0m \u001B[38;5;28;01mif\u001B[39;00m \u001B[38;5;129;01mnot\u001B[39;00m (\u001B[38;5;28mself\u001B[39m\u001B[38;5;241m.\u001B[39m_backward_hooks \u001B[38;5;129;01mor\u001B[39;00m \u001B[38;5;28mself\u001B[39m\u001B[38;5;241m.\u001B[39m_backward_pre_hooks \u001B[38;5;129;01mor\u001B[39;00m \u001B[38;5;28mself\u001B[39m\u001B[38;5;241m.\u001B[39m_forward_hooks \u001B[38;5;129;01mor\u001B[39;00m \u001B[38;5;28mself\u001B[39m\u001B[38;5;241m.\u001B[39m_forward_pre_hooks\n\u001B[1;32m   1745\u001B[0m         \u001B[38;5;129;01mor\u001B[39;00m _global_backward_pre_hooks \u001B[38;5;129;01mor\u001B[39;00m _global_backward_hooks\n\u001B[1;32m   1746\u001B[0m         \u001B[38;5;129;01mor\u001B[39;00m _global_forward_hooks \u001B[38;5;129;01mor\u001B[39;00m _global_forward_pre_hooks):\n\u001B[0;32m-> 1747\u001B[0m     \u001B[38;5;28;01mreturn\u001B[39;00m \u001B[43mforward_call\u001B[49m\u001B[43m(\u001B[49m\u001B[38;5;241;43m*\u001B[39;49m\u001B[43margs\u001B[49m\u001B[43m,\u001B[49m\u001B[43m \u001B[49m\u001B[38;5;241;43m*\u001B[39;49m\u001B[38;5;241;43m*\u001B[39;49m\u001B[43mkwargs\u001B[49m\u001B[43m)\u001B[49m\n\u001B[1;32m   1749\u001B[0m result \u001B[38;5;241m=\u001B[39m \u001B[38;5;28;01mNone\u001B[39;00m\n\u001B[1;32m   1750\u001B[0m called_always_called_hooks \u001B[38;5;241m=\u001B[39m \u001B[38;5;28mset\u001B[39m()\n",
      "File \u001B[0;32m/Library/Frameworks/Python.framework/Versions/3.10/lib/python3.10/site-packages/torch/nn/modules/linear.py:125\u001B[0m, in \u001B[0;36mLinear.forward\u001B[0;34m(self, input)\u001B[0m\n\u001B[1;32m    124\u001B[0m \u001B[38;5;28;01mdef\u001B[39;00m \u001B[38;5;21mforward\u001B[39m(\u001B[38;5;28mself\u001B[39m, \u001B[38;5;28minput\u001B[39m: Tensor) \u001B[38;5;241m-\u001B[39m\u001B[38;5;241m>\u001B[39m Tensor:\n\u001B[0;32m--> 125\u001B[0m     \u001B[38;5;28;01mreturn\u001B[39;00m \u001B[43mF\u001B[49m\u001B[38;5;241;43m.\u001B[39;49m\u001B[43mlinear\u001B[49m\u001B[43m(\u001B[49m\u001B[38;5;28;43minput\u001B[39;49m\u001B[43m,\u001B[49m\u001B[43m \u001B[49m\u001B[38;5;28;43mself\u001B[39;49m\u001B[38;5;241;43m.\u001B[39;49m\u001B[43mweight\u001B[49m\u001B[43m,\u001B[49m\u001B[43m \u001B[49m\u001B[38;5;28;43mself\u001B[39;49m\u001B[38;5;241;43m.\u001B[39;49m\u001B[43mbias\u001B[49m\u001B[43m)\u001B[49m\n",
      "\u001B[0;31mKeyboardInterrupt\u001B[0m: "
     ]
    }
   ],
   "execution_count": 26
  },
  {
   "metadata": {
    "ExecuteTime": {
     "end_time": "2025-02-01T05:04:01.034732Z",
     "start_time": "2025-02-01T05:04:01.030161Z"
    }
   },
   "cell_type": "code",
   "source": [
    "def eval_model(model, dataloader):\n",
    "    model.eval()\n",
    "    total_loss = 0\n",
    "    n_batches = len(dataloader)\n",
    "    \n",
    "    with torch.no_grad():\n",
    "        for data, labels in dataloader:\n",
    "            data, labels = data.to(device), labels.to(device)\n",
    "            output = model(data.unsqueeze(0))\n",
    "            \n",
    "            mse = (output, labels)\n",
    "            total_loss += mse.item()\n",
    "            \n",
    "    avg_loss = total_loss/n_batches\n",
    "    return avg_loss"
   ],
   "id": "9b5f8e2d8664c203",
   "outputs": [],
   "execution_count": 28
  },
  {
   "metadata": {
    "ExecuteTime": {
     "end_time": "2025-02-01T05:05:13.301405Z",
     "start_time": "2025-02-01T05:05:08.570194Z"
    }
   },
   "cell_type": "code",
   "source": "eval_model(cnn, test_dataset)",
   "id": "cbc564a3c3d3b68e",
   "outputs": [
    {
     "name": "stderr",
     "output_type": "stream",
     "text": [
      "/var/folders/f3/w3vlb72x47z3vhjsm9s6jlxc0000gn/T/ipykernel_35676/305986615.py:11: UserWarning: Using a target size (torch.Size([])) that is different to the input size (torch.Size([1])). This will likely lead to incorrect results due to broadcasting. Please ensure they have the same size.\n",
      "  mse = F.mse_loss(output, labels)\n"
     ]
    },
    {
     "data": {
      "text/plain": [
       "2.9931560380255395"
      ]
     },
     "execution_count": 34,
     "metadata": {},
     "output_type": "execute_result"
    }
   ],
   "execution_count": 34
  }
 ],
 "metadata": {
  "kernelspec": {
   "display_name": "Python 3",
   "language": "python",
   "name": "python3"
  },
  "language_info": {
   "codemirror_mode": {
    "name": "ipython",
    "version": 2
   },
   "file_extension": ".py",
   "mimetype": "text/x-python",
   "name": "python",
   "nbconvert_exporter": "python",
   "pygments_lexer": "ipython2",
   "version": "2.7.6"
  }
 },
 "nbformat": 4,
 "nbformat_minor": 5
}
